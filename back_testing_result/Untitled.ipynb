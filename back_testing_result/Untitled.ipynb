{
 "cells": [
  {
   "cell_type": "code",
   "execution_count": 113,
   "metadata": {},
   "outputs": [],
   "source": [
    "import pybithumb\n",
    "import time\n",
    "import datetime\n",
    "import pandas as pd\n",
    "import numpy as np\n",
    "\n",
    "%matplotlib inline\n",
    "import seaborn as sns\n",
    "import matplotlib.pyplot as plt\n",
    "\n",
    "import warnings\n",
    "warnings.filterwarnings('ignore')"
   ]
  },
  {
   "cell_type": "markdown",
   "metadata": {},
   "source": [
    "# Load Dataset"
   ]
  },
  {
   "cell_type": "code",
   "execution_count": 114,
   "metadata": {},
   "outputs": [],
   "source": [
    "def dataset():\n",
    "    tickers = pybithumb.get_tickers()\n",
    "    new_df = pd.DataFrame()\n",
    "    for ticker in tickers:\n",
    "        df = pybithumb.get_ohlcv(ticker)\n",
    "        df = df[df.index > '2018']\n",
    "        df['ticker'] = ticker\n",
    "        new_df = new_df.append(df)\n",
    "    return new_df"
   ]
  },
  {
   "cell_type": "code",
   "execution_count": 115,
   "metadata": {},
   "outputs": [
    {
     "name": "stdout",
     "output_type": "stream",
     "text": [
      "(29139, 6)\n"
     ]
    },
    {
     "data": {
      "text/html": [
       "<div>\n",
       "<style scoped>\n",
       "    .dataframe tbody tr th:only-of-type {\n",
       "        vertical-align: middle;\n",
       "    }\n",
       "\n",
       "    .dataframe tbody tr th {\n",
       "        vertical-align: top;\n",
       "    }\n",
       "\n",
       "    .dataframe thead th {\n",
       "        text-align: right;\n",
       "    }\n",
       "</style>\n",
       "<table border=\"1\" class=\"dataframe\">\n",
       "  <thead>\n",
       "    <tr style=\"text-align: right;\">\n",
       "      <th></th>\n",
       "      <th>open</th>\n",
       "      <th>high</th>\n",
       "      <th>low</th>\n",
       "      <th>close</th>\n",
       "      <th>volume</th>\n",
       "      <th>ticker</th>\n",
       "    </tr>\n",
       "  </thead>\n",
       "  <tbody>\n",
       "    <tr>\n",
       "      <th>2018-01-02</th>\n",
       "      <td>18698000.0</td>\n",
       "      <td>19080000.0</td>\n",
       "      <td>18510000.0</td>\n",
       "      <td>18772000.0</td>\n",
       "      <td>11756.222617</td>\n",
       "      <td>BTC</td>\n",
       "    </tr>\n",
       "    <tr>\n",
       "      <th>2018-01-03</th>\n",
       "      <td>18773000.0</td>\n",
       "      <td>20810000.0</td>\n",
       "      <td>18704000.0</td>\n",
       "      <td>19970000.0</td>\n",
       "      <td>25268.176388</td>\n",
       "      <td>BTC</td>\n",
       "    </tr>\n",
       "    <tr>\n",
       "      <th>2018-01-04</th>\n",
       "      <td>19958000.0</td>\n",
       "      <td>20789000.0</td>\n",
       "      <td>19865000.0</td>\n",
       "      <td>20373000.0</td>\n",
       "      <td>13532.259194</td>\n",
       "      <td>BTC</td>\n",
       "    </tr>\n",
       "  </tbody>\n",
       "</table>\n",
       "</div>"
      ],
      "text/plain": [
       "                  open        high         low       close        volume ticker\n",
       "2018-01-02  18698000.0  19080000.0  18510000.0  18772000.0  11756.222617    BTC\n",
       "2018-01-03  18773000.0  20810000.0  18704000.0  19970000.0  25268.176388    BTC\n",
       "2018-01-04  19958000.0  20789000.0  19865000.0  20373000.0  13532.259194    BTC"
      ]
     },
     "execution_count": 115,
     "metadata": {},
     "output_type": "execute_result"
    }
   ],
   "source": [
    "df = dataset()\n",
    "print(df.shape)\n",
    "df.head(3)"
   ]
  },
  {
   "cell_type": "markdown",
   "metadata": {},
   "source": [
    "# Preprocessing"
   ]
  },
  {
   "cell_type": "code",
   "execution_count": 116,
   "metadata": {},
   "outputs": [
    {
     "name": "stdout",
     "output_type": "stream",
     "text": [
      "(29139, 7)\n"
     ]
    },
    {
     "data": {
      "text/html": [
       "<div>\n",
       "<style scoped>\n",
       "    .dataframe tbody tr th:only-of-type {\n",
       "        vertical-align: middle;\n",
       "    }\n",
       "\n",
       "    .dataframe tbody tr th {\n",
       "        vertical-align: top;\n",
       "    }\n",
       "\n",
       "    .dataframe thead th {\n",
       "        text-align: right;\n",
       "    }\n",
       "</style>\n",
       "<table border=\"1\" class=\"dataframe\">\n",
       "  <thead>\n",
       "    <tr style=\"text-align: right;\">\n",
       "      <th></th>\n",
       "      <th>open</th>\n",
       "      <th>high</th>\n",
       "      <th>low</th>\n",
       "      <th>close</th>\n",
       "      <th>volume</th>\n",
       "      <th>ticker</th>\n",
       "      <th>candle</th>\n",
       "    </tr>\n",
       "  </thead>\n",
       "  <tbody>\n",
       "    <tr>\n",
       "      <th>2018-01-02</th>\n",
       "      <td>18698000.0</td>\n",
       "      <td>19080000.0</td>\n",
       "      <td>18510000.0</td>\n",
       "      <td>18772000.0</td>\n",
       "      <td>11756.222617</td>\n",
       "      <td>BTC</td>\n",
       "      <td>0</td>\n",
       "    </tr>\n",
       "    <tr>\n",
       "      <th>2018-01-03</th>\n",
       "      <td>18773000.0</td>\n",
       "      <td>20810000.0</td>\n",
       "      <td>18704000.0</td>\n",
       "      <td>19970000.0</td>\n",
       "      <td>25268.176388</td>\n",
       "      <td>BTC</td>\n",
       "      <td>1</td>\n",
       "    </tr>\n",
       "  </tbody>\n",
       "</table>\n",
       "</div>"
      ],
      "text/plain": [
       "                  open        high         low       close        volume ticker  candle\n",
       "2018-01-02  18698000.0  19080000.0  18510000.0  18772000.0  11756.222617    BTC       0\n",
       "2018-01-03  18773000.0  20810000.0  18704000.0  19970000.0  25268.176388    BTC       1"
      ]
     },
     "execution_count": 116,
     "metadata": {},
     "output_type": "execute_result"
    }
   ],
   "source": [
    "# 캔들추가\n",
    "df['candle'] = np.where(df['close'] / df['open'] > 1.01, 1, 0)\n",
    "print(df.shape)\n",
    "df.head(2)"
   ]
  },
  {
   "cell_type": "code",
   "execution_count": 117,
   "metadata": {},
   "outputs": [],
   "source": [
    "# 전일 5일 이동평균선 추가\n",
    "def add_ma5(df):\n",
    "    tickers = pybithumb.get_tickers()\n",
    "    new_df = pd.DataFrame()\n",
    "    for ticker in tickers:\n",
    "        ticker_df = df[df['ticker'] == ticker]\n",
    "        ticker_df['ma5-1day'] = ticker_df['close'].rolling(window=5).mean().shift(1)\n",
    "        new_df = new_df.append(ticker_df)\n",
    "    new_df.dropna(inplace=True)\n",
    "    return new_df"
   ]
  },
  {
   "cell_type": "code",
   "execution_count": 123,
   "metadata": {},
   "outputs": [
    {
     "name": "stdout",
     "output_type": "stream",
     "text": [
      "(28253, 8)\n"
     ]
    },
    {
     "data": {
      "text/html": [
       "<div>\n",
       "<style scoped>\n",
       "    .dataframe tbody tr th:only-of-type {\n",
       "        vertical-align: middle;\n",
       "    }\n",
       "\n",
       "    .dataframe tbody tr th {\n",
       "        vertical-align: top;\n",
       "    }\n",
       "\n",
       "    .dataframe thead th {\n",
       "        text-align: right;\n",
       "    }\n",
       "</style>\n",
       "<table border=\"1\" class=\"dataframe\">\n",
       "  <thead>\n",
       "    <tr style=\"text-align: right;\">\n",
       "      <th></th>\n",
       "      <th>open</th>\n",
       "      <th>high</th>\n",
       "      <th>low</th>\n",
       "      <th>close</th>\n",
       "      <th>volume</th>\n",
       "      <th>ticker</th>\n",
       "      <th>candle</th>\n",
       "      <th>ma5-1day</th>\n",
       "    </tr>\n",
       "  </thead>\n",
       "  <tbody>\n",
       "    <tr>\n",
       "      <th>2018-01-12</th>\n",
       "      <td>19404000.0</td>\n",
       "      <td>20036000.0</td>\n",
       "      <td>17980000.0</td>\n",
       "      <td>19698000.0</td>\n",
       "      <td>13164.018754</td>\n",
       "      <td>BTC</td>\n",
       "      <td>1</td>\n",
       "      <td>22129400.0</td>\n",
       "    </tr>\n",
       "    <tr>\n",
       "      <th>2018-01-13</th>\n",
       "      <td>19690000.0</td>\n",
       "      <td>21200000.0</td>\n",
       "      <td>19205000.0</td>\n",
       "      <td>20662000.0</td>\n",
       "      <td>11687.757348</td>\n",
       "      <td>BTC</td>\n",
       "      <td>1</td>\n",
       "      <td>21060400.0</td>\n",
       "    </tr>\n",
       "  </tbody>\n",
       "</table>\n",
       "</div>"
      ],
      "text/plain": [
       "                  open        high         low       close        volume ticker  candle    ma5-1day\n",
       "2018-01-12  19404000.0  20036000.0  17980000.0  19698000.0  13164.018754    BTC       1  22129400.0\n",
       "2018-01-13  19690000.0  21200000.0  19205000.0  20662000.0  11687.757348    BTC       1  21060400.0"
      ]
     },
     "execution_count": 123,
     "metadata": {},
     "output_type": "execute_result"
    }
   ],
   "source": [
    "df = add_ma5(df)\n",
    "print(df.shape)\n",
    "df.head(2)"
   ]
  },
  {
   "cell_type": "code",
   "execution_count": 137,
   "metadata": {},
   "outputs": [
    {
     "name": "stdout",
     "output_type": "stream",
     "text": [
      "(28253, 9)\n"
     ]
    },
    {
     "data": {
      "text/html": [
       "<div>\n",
       "<style scoped>\n",
       "    .dataframe tbody tr th:only-of-type {\n",
       "        vertical-align: middle;\n",
       "    }\n",
       "\n",
       "    .dataframe tbody tr th {\n",
       "        vertical-align: top;\n",
       "    }\n",
       "\n",
       "    .dataframe thead th {\n",
       "        text-align: right;\n",
       "    }\n",
       "</style>\n",
       "<table border=\"1\" class=\"dataframe\">\n",
       "  <thead>\n",
       "    <tr style=\"text-align: right;\">\n",
       "      <th></th>\n",
       "      <th>open</th>\n",
       "      <th>high</th>\n",
       "      <th>low</th>\n",
       "      <th>close</th>\n",
       "      <th>volume</th>\n",
       "      <th>ticker</th>\n",
       "      <th>candle</th>\n",
       "      <th>ma5-1day</th>\n",
       "      <th>noise</th>\n",
       "    </tr>\n",
       "  </thead>\n",
       "  <tbody>\n",
       "    <tr>\n",
       "      <th>2018-01-12</th>\n",
       "      <td>19404000.0</td>\n",
       "      <td>20036000.0</td>\n",
       "      <td>17980000.0</td>\n",
       "      <td>19698000.0</td>\n",
       "      <td>13164.018754</td>\n",
       "      <td>BTC</td>\n",
       "      <td>1</td>\n",
       "      <td>22129400.0</td>\n",
       "      <td>0.86</td>\n",
       "    </tr>\n",
       "    <tr>\n",
       "      <th>2018-01-13</th>\n",
       "      <td>19690000.0</td>\n",
       "      <td>21200000.0</td>\n",
       "      <td>19205000.0</td>\n",
       "      <td>20662000.0</td>\n",
       "      <td>11687.757348</td>\n",
       "      <td>BTC</td>\n",
       "      <td>1</td>\n",
       "      <td>21060400.0</td>\n",
       "      <td>0.51</td>\n",
       "    </tr>\n",
       "  </tbody>\n",
       "</table>\n",
       "</div>"
      ],
      "text/plain": [
       "                  open        high         low       close        volume ticker  candle    ma5-1day  noise\n",
       "2018-01-12  19404000.0  20036000.0  17980000.0  19698000.0  13164.018754    BTC       1  22129400.0   0.86\n",
       "2018-01-13  19690000.0  21200000.0  19205000.0  20662000.0  11687.757348    BTC       1  21060400.0   0.51"
      ]
     },
     "execution_count": 137,
     "metadata": {},
     "output_type": "execute_result"
    }
   ],
   "source": [
    "# noise 추가\n",
    "df['noise'] = np.round(1-(abs(df['open']-df['close']) / (df['high']-df['low'])), 2) \n",
    "print(df.shape)\n",
    "df.head(2)"
   ]
  },
  {
   "cell_type": "code",
   "execution_count": null,
   "metadata": {},
   "outputs": [],
   "source": [
    "# noise 5일전 추가\n"
   ]
  }
 ],
 "metadata": {
  "kernelspec": {
   "display_name": "Python 3",
   "language": "python",
   "name": "python3"
  },
  "language_info": {
   "codemirror_mode": {
    "name": "ipython",
    "version": 3
   },
   "file_extension": ".py",
   "mimetype": "text/x-python",
   "name": "python",
   "nbconvert_exporter": "python",
   "pygments_lexer": "ipython3",
   "version": "3.7.3"
  }
 },
 "nbformat": 4,
 "nbformat_minor": 2
}
